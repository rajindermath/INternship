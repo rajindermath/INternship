{
  "cells": [
    {
      "cell_type": "markdown",
      "metadata": {
        "id": "view-in-github",
        "colab_type": "text"
      },
      "source": [
        "<a href=\"https://colab.research.google.com/github/rajindermath/INternship/blob/main/26_02_2022_FLICKER_SCRAPPER.ipynb\" target=\"_parent\"><img src=\"https://colab.research.google.com/assets/colab-badge.svg\" alt=\"Open In Colab\"/></a>"
      ]
    },
    {
      "cell_type": "code",
      "execution_count": null,
      "metadata": {
        "colab": {
          "base_uri": "https://localhost:8080/"
        },
        "id": "-IkdYF27qygp",
        "outputId": "3aad906b-ee21-4d47-ceec-2c6b8a3a8b82"
      },
      "outputs": [
        {
          "name": "stdout",
          "output_type": "stream",
          "text": [
            "Mounted at /content/gdrive\n"
          ]
        }
      ],
      "source": [
        "from google.colab import drive\n",
        "drive.mount('/content/gdrive')"
      ]
    },
    {
      "cell_type": "markdown",
      "source": [
        "***Create a folder in your Google drive where you want to clone the repository and change directory to this folder using %cd***\n",
        "\n",
        "***I have created a folder named \"25-02-2022-FLICKER_SCRAPPER\", you can chose folder name of your choice.***"
      ],
      "metadata": {
        "id": "Xt1BZNVkDzoc"
      }
    },
    {
      "cell_type": "code",
      "execution_count": null,
      "metadata": {
        "colab": {
          "base_uri": "https://localhost:8080/"
        },
        "id": "NbI_pw0mrPqG",
        "outputId": "1e5b36ab-ea7c-4fd9-963a-760f089c5b2a"
      },
      "outputs": [
        {
          "name": "stdout",
          "output_type": "stream",
          "text": [
            "/content/gdrive/MyDrive/25-02-2022-FLICKER_SCRAPPER/flickr_scraper\n"
          ]
        }
      ],
      "source": [
        "%cd /content/gdrive/MyDrive/25-02-2022-FLICKER_SCRAPPER\n",
        "\n"
      ]
    },
    {
      "cell_type": "code",
      "execution_count": null,
      "metadata": {
        "colab": {
          "base_uri": "https://localhost:8080/",
          "height": 575
        },
        "id": "Ff1Cj8fIrPxQ",
        "outputId": "1a8e4f9e-11b1-466b-c05b-2d99a6408844"
      },
      "outputs": [
        {
          "name": "stdout",
          "output_type": "stream",
          "text": [
            "Looking in indexes: https://pypi.org/simple, https://us-python.pkg.dev/colab-wheels/public/simple/\n",
            "Collecting flickrapi\n",
            "  Downloading flickrapi-2.4.0-py2.py3-none-any.whl (26 kB)\n",
            "Requirement already satisfied: numpy in /usr/local/lib/python3.7/dist-packages (from -r requirements.txt (line 4)) (1.21.6)\n",
            "Requirement already satisfied: pillow in /usr/local/lib/python3.7/dist-packages (from -r requirements.txt (line 5)) (7.1.2)\n",
            "Collecting pillow\n",
            "  Downloading Pillow-9.2.0-cp37-cp37m-manylinux_2_17_x86_64.manylinux2014_x86_64.whl (3.1 MB)\n",
            "\u001b[K     |████████████████████████████████| 3.1 MB 5.8 MB/s \n",
            "\u001b[?25hRequirement already satisfied: tqdm in /usr/local/lib/python3.7/dist-packages (from -r requirements.txt (line 6)) (4.64.1)\n",
            "Requirement already satisfied: requests>=2.2.1 in /usr/local/lib/python3.7/dist-packages (from flickrapi->-r requirements.txt (line 3)) (2.23.0)\n",
            "Collecting requests-toolbelt>=0.3.1\n",
            "  Downloading requests_toolbelt-0.10.1-py2.py3-none-any.whl (54 kB)\n",
            "\u001b[K     |████████████████████████████████| 54 kB 2.5 MB/s \n",
            "\u001b[?25hRequirement already satisfied: six>=1.5.2 in /usr/local/lib/python3.7/dist-packages (from flickrapi->-r requirements.txt (line 3)) (1.15.0)\n",
            "Requirement already satisfied: requests-oauthlib>=0.4.0 in /usr/local/lib/python3.7/dist-packages (from flickrapi->-r requirements.txt (line 3)) (1.3.1)\n",
            "Requirement already satisfied: chardet<4,>=3.0.2 in /usr/local/lib/python3.7/dist-packages (from requests>=2.2.1->flickrapi->-r requirements.txt (line 3)) (3.0.4)\n",
            "Requirement already satisfied: idna<3,>=2.5 in /usr/local/lib/python3.7/dist-packages (from requests>=2.2.1->flickrapi->-r requirements.txt (line 3)) (2.10)\n",
            "Requirement already satisfied: certifi>=2017.4.17 in /usr/local/lib/python3.7/dist-packages (from requests>=2.2.1->flickrapi->-r requirements.txt (line 3)) (2022.9.24)\n",
            "Requirement already satisfied: urllib3!=1.25.0,!=1.25.1,<1.26,>=1.21.1 in /usr/local/lib/python3.7/dist-packages (from requests>=2.2.1->flickrapi->-r requirements.txt (line 3)) (1.24.3)\n",
            "Requirement already satisfied: oauthlib>=3.0.0 in /usr/local/lib/python3.7/dist-packages (from requests-oauthlib>=0.4.0->flickrapi->-r requirements.txt (line 3)) (3.2.2)\n",
            "Installing collected packages: requests-toolbelt, pillow, flickrapi\n",
            "  Attempting uninstall: pillow\n",
            "    Found existing installation: Pillow 7.1.2\n",
            "    Uninstalling Pillow-7.1.2:\n",
            "      Successfully uninstalled Pillow-7.1.2\n",
            "Successfully installed flickrapi-2.4.0 pillow-9.2.0 requests-toolbelt-0.10.1\n"
          ]
        },
        {
          "data": {
            "application/vnd.colab-display-data+json": {
              "pip_warning": {
                "packages": [
                  "PIL"
                ]
              }
            }
          },
          "metadata": {},
          "output_type": "display_data"
        }
      ],
      "source": [
        "!git clone https://github.com/ultralytics/flickr_scraper\n",
        "%cd flickr_scraper\n",
        "!pip install -U -r requirements.txt"
      ]
    },
    {
      "cell_type": "code",
      "execution_count": null,
      "metadata": {
        "colab": {
          "background_save": true,
          "base_uri": "https://localhost:8080/"
        },
        "id": "uUhvGwnerP0o",
        "outputId": "cae88c5d-544b-4e79-b867-1441a84c6be5"
      },
      "outputs": [
        {
          "name": "stdout",
          "output_type": "stream",
          "text": [
            "0/100 https://live.staticflickr.com/161/408528028_d98a4bb1dd_o.jpg\n",
            "1/100 https://live.staticflickr.com/1711/24956508455_5dd0d9b743_o.jpg\n",
            "2/100 https://live.staticflickr.com/201/469258674_0632ed66a6_o.jpg\n",
            "3/100 https://live.staticflickr.com/5667/22417967594_4ecf7e4148_o.jpg\n",
            "4/100 https://live.staticflickr.com/4063/4287419124_5f84becd0c_o.jpg\n",
            "5/100 https://live.staticflickr.com/117/287540867_9eaf501a8c_o.jpg\n",
            "6/100 https://live.staticflickr.com/6038/6257067308_f97c1f7856_o.jpg\n",
            "7/100 https://farm3.staticflickr.com/2357/2282534622_aa62b04d1d_b.jpg\n",
            "8/100 https://live.staticflickr.com/8157/6996079150_2bf74566d4_o.jpg\n",
            "9/100 https://live.staticflickr.com/2656/4056893941_8d307ae564_o.jpg\n",
            "10/100 https://live.staticflickr.com/65535/49800238403_a5297b38f4_o.jpg\n",
            "11/100 https://live.staticflickr.com/206/469286879_dd0201c2b8_o.jpg\n",
            "12/100 https://live.staticflickr.com/65535/50912550033_b00918573e_o.jpg\n",
            "13/100 https://live.staticflickr.com/65535/50913238741_153972f666_o.jpg\n",
            "14/100 https://farm9.staticflickr.com/8720/16917002592_7d539a698d_b.jpg\n",
            "15/100 https://live.staticflickr.com/657/21184827486_0628c96a17_o.jpg\n",
            "16/100 https://live.staticflickr.com/2902/14559605247_70acd258e7_o.jpg\n",
            "17/100 https://live.staticflickr.com/5588/14559605557_d15e0f9d6e_o.jpg\n",
            "18/100 https://live.staticflickr.com/3198/2769151144_9b8c769d95_o.jpg\n",
            "19/100 https://live.staticflickr.com/3258/2896255163_959f1d900b_o.jpg\n",
            "20/100 https://farm66.staticflickr.com/65535/50868804547_251313dfb3_b.jpg\n",
            "21/100 https://live.staticflickr.com/7290/15838816724_8ae5d3f3dd_o.jpg\n",
            "22/100 https://live.staticflickr.com/2065/2336838334_6c976c27b1_o.png\n",
            "23/100 https://live.staticflickr.com/65535/49910714692_56750afdf5_o.jpg\n",
            "24/100 https://live.staticflickr.com/8589/16602258860_5d7c3d8ee2_o.jpg\n",
            "25/100 https://live.staticflickr.com/438/19805442889_eb0ec4cb36_o.jpg\n",
            "26/100 https://live.staticflickr.com/14/19466978_597cdefa64_o.jpg\n",
            "27/100 https://live.staticflickr.com/7656/27121559190_31fe54f099_o.jpg\n",
            "28/100 https://live.staticflickr.com/579/23219790646_3c75aba404_o.jpg\n",
            "29/100 https://live.staticflickr.com/228/514727031_0cfe2a674f_o.jpg\n",
            "30/100 https://live.staticflickr.com/1508/26475191595_d21c050bc0_o.jpg\n",
            "31/100 https://live.staticflickr.com/797/39225154700_fb26ede188_o.jpg\n",
            "32/100 https://live.staticflickr.com/2936/14770342033_301b8e15e7_o.jpg\n",
            "33/100 https://live.staticflickr.com/5108/5597756348_8eb208f45d_o.jpg\n",
            "34/100 https://live.staticflickr.com/3871/14770342043_a9cd34e340_o.jpg\n",
            "35/100 https://live.staticflickr.com/4276/34445265854_996c7b424d_o.jpg\n",
            "36/100 https://farm6.staticflickr.com/5331/7180428910_64a281247e_b.jpg\n",
            "37/100 https://live.staticflickr.com/3520/4600828270_b4c5c565a8_o.jpg\n",
            "38/100 https://live.staticflickr.com/4025/5155189060_89a844cb4b_o.jpg\n",
            "39/100 https://live.staticflickr.com/5471/11250305914_0ce641744d_o.jpg\n",
            "40/100 https://farm7.staticflickr.com/6027/5918953672_c1679c976d_b.jpg\n",
            "41/100 https://farm4.staticflickr.com/3208/3041205893_8ef7e6595c_b.jpg\n",
            "42/100 https://farm6.staticflickr.com/5195/14333160125_bfd9ed3cda_b.jpg\n",
            "43/100 https://live.staticflickr.com/4068/4407016803_17f603bdbb_o.jpg\n",
            "44/100 https://farm1.staticflickr.com/914/43430407182_beedde643f_b.jpg\n",
            "45/100 https://live.staticflickr.com/5080/5832136430_cf23d904be_o.jpg\n",
            "46/100 https://live.staticflickr.com/5327/16760953793_65f73941dd_o.jpg\n",
            "47/100 https://farm1.staticflickr.com/46/135057452_46afc25950_b.jpg\n",
            "48/100 https://live.staticflickr.com/2658/3814330801_8205129a0a_o.jpg\n",
            "49/100 https://live.staticflickr.com/587/20969864066_ed842c7057_o.jpg\n",
            "50/100 https://live.staticflickr.com/3281/2551176320_ae52d8f967_o.jpg\n",
            "51/100 https://live.staticflickr.com/156/392052663_496972e76b_o.jpg\n",
            "52/100 https://live.staticflickr.com/2044/2550355365_67065b03b9_o.jpg\n",
            "53/100 https://farm3.staticflickr.com/2152/2400393520_2bc670e0f5_b.jpg\n",
            "54/100 https://live.staticflickr.com/27/101448757_59f5cf0bbe_o.jpg\n",
            "55/100 https://live.staticflickr.com/6127/5961255168_aaf47610dc_o.jpg\n",
            "56/100 https://live.staticflickr.com/3611/3404078065_e9e67b8c36_o.jpg\n",
            "57/100 https://farm1.staticflickr.com/33/56245263_902fce3c1b_b.jpg\n",
            "58/100 https://live.staticflickr.com/3400/3474057847_93914c4ebf_o.jpg\n",
            "59/100 https://farm3.staticflickr.com/2398/2179357620_a9daa3e730_b.jpg\n",
            "60/100 https://live.staticflickr.com/3276/4552194767_bbe612eb18_o.jpg\n",
            "61/100 https://live.staticflickr.com/5302/5590683911_2b537601d5_o.jpg\n",
            "62/100 https://live.staticflickr.com/4146/5022194449_c45bb61707_o.jpg\n",
            "63/100 https://live.staticflickr.com/7144/6431736217_53f2e797e0_o.jpg\n",
            "64/100 https://live.staticflickr.com/4054/4699036663_980277ef50_o.jpg\n",
            "65/100 https://live.staticflickr.com/4142/4739046492_6dbf93b9e7_o.jpg\n",
            "66/100 https://live.staticflickr.com/55/118518503_ed1286b1bd_o.jpg\n",
            "67/100 https://live.staticflickr.com/2804/4322967973_05688de21b_o.jpg\n",
            "68/100 https://live.staticflickr.com/8673/16594573008_f173eb7ef9_o.jpg\n",
            "69/100 https://live.staticflickr.com/2125/5765449285_19383e76bb_o.jpg\n",
            "70/100 https://farm7.staticflickr.com/6150/6037327419_e087fcd28f_b.jpg\n",
            "71/100 https://farm8.staticflickr.com/7206/6879299125_4892985272_b.jpg\n",
            "72/100 https://live.staticflickr.com/8384/8614602741_80de9fa371_o.jpg\n",
            "73/100 https://live.staticflickr.com/7012/6625377489_cd11dbc1b7_o.jpg\n",
            "74/100 https://live.staticflickr.com/2184/5765454395_a80c8bc39e_o.jpg\n",
            "75/100 https://live.staticflickr.com/5228/5765996174_f192758734_o.jpg\n",
            "76/100 https://live.staticflickr.com/2063/5766023872_e2ed3d6aaa_o.jpg\n",
            "77/100 https://live.staticflickr.com/51/146326379_1540cc5862_o.jpg\n",
            "78/100 https://farm2.staticflickr.com/1333/637610668_4565f19561_b.jpg\n",
            "79/100 https://live.staticflickr.com/2017/2522383015_f406847475_o.jpg\n",
            "80/100 https://live.staticflickr.com/2094/5765448821_ac48e0eeb6_o.jpg\n",
            "81/100 https://live.staticflickr.com/3585/5766000968_e33624cb2f_o.jpg\n",
            "82/100 https://live.staticflickr.com/5306/5766038418_a237301516_o.jpg\n",
            "83/100 https://live.staticflickr.com/5145/5659734155_9034552f15_o.jpg\n",
            "84/100 https://live.staticflickr.com/2188/5766028226_294060d737_o.jpg\n",
            "85/100 https://live.staticflickr.com/3478/5766035320_9947bd754d_o.jpg\n",
            "86/100 https://live.staticflickr.com/5261/5765454885_2096db79b1_o.jpg\n",
            "87/100 https://live.staticflickr.com/7101/27857657461_c6e7bccb5b_o.jpg\n",
            "88/100 https://live.staticflickr.com/4909/46540108462_9db909e5be_o.jpg\n",
            "89/100 https://live.staticflickr.com/3590/5766021938_7640a3d300_o.jpg\n",
            "90/100 https://live.staticflickr.com/3495/5766007296_ea6e6aef61_o.jpg\n",
            "91/100 https://live.staticflickr.com/805/41426407572_24634dc9aa_o.jpg\n",
            "92/100 https://live.staticflickr.com/3627/3470773726_4758f03c72_o.jpg\n",
            "93/100 https://live.staticflickr.com/4035/4318954026_bf7e153508_o.jpg\n",
            "94/100 https://live.staticflickr.com/3768/9210979148_57466f3bf9_o.jpg\n",
            "95/100 https://live.staticflickr.com/3206/3080845974_3dda04cef8_o.jpg\n",
            "96/100 https://live.staticflickr.com/5331/30816651871_5c56544b07_o.jpg\n",
            "97/100 https://live.staticflickr.com/3610/3395077917_0eb2eab9ab_o.jpg\n",
            "98/100 https://live.staticflickr.com/5311/7202058220_cdb5284deb_o.jpg\n",
            "99/100 https://live.staticflickr.com/3159/2620833892_dc20966a6f_o.jpg\n",
            "Done. (628.8s)\n",
            "All images saved to /content/gdrive/MyDrive/25-02-2022-FLICKER_SCRAPPER/flickr_scraper/images/mangoes/\n"
          ]
        }
      ],
      "source": [
        "!python3 flickr_scraper.py --search 'mangoes' --n 100 --download"
      ]
    },
    {
      "cell_type": "code",
      "execution_count": null,
      "metadata": {
        "id": "of4iDU0lrP4F"
      },
      "outputs": [],
      "source": []
    },
    {
      "cell_type": "code",
      "execution_count": null,
      "metadata": {
        "id": "uaxd47iFrP8M"
      },
      "outputs": [],
      "source": []
    }
  ],
  "metadata": {
    "colab": {
      "collapsed_sections": [],
      "provenance": [],
      "authorship_tag": "ABX9TyPu1Wi8KPkkI6xLcoqnByJi",
      "include_colab_link": true
    },
    "kernelspec": {
      "display_name": "Python 3",
      "name": "python3"
    },
    "language_info": {
      "name": "python"
    }
  },
  "nbformat": 4,
  "nbformat_minor": 0
}